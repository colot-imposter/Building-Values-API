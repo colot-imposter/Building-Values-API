{
 "cells": [
  {
   "cell_type": "markdown",
   "metadata": {},
   "source": [
    "# Extracting Building Values from an API"
   ]
  },
  {
   "cell_type": "code",
   "execution_count": 1,
   "metadata": {},
   "outputs": [],
   "source": [
    "import pandas as pd\n",
    "import json\n",
    "import requests \n",
    "import zipcodes\n",
    "import http.client \n",
    "import matplotlib.pyplot as plt\n",
    "from collections import defaultdict "
   ]
  },
  {
   "cell_type": "markdown",
   "metadata": {},
   "source": [
    "## [ATTOM API Docs](https://api.developer.attomdata.com/docs)"
   ]
  },
  {
   "cell_type": "code",
   "execution_count": 2,
   "metadata": {},
   "outputs": [
    {
     "name": "stdout",
     "output_type": "stream",
     "text": [
      "Enter a zip code value 78701\n"
     ]
    }
   ],
   "source": [
    "# Input the desired zipcode\n",
    "while True: \n",
    "    zipinput = input(\"Enter a zip code value \")\n",
    "    \n",
    "    if zipcodes.is_real(zipinput):\n",
    "        \n",
    "        break\n",
    "        \n",
    "    else:\n",
    "        print(\"Invalid zip code...re-enter zip code\")\n"
   ]
  },
  {
   "cell_type": "code",
   "execution_count": 3,
   "metadata": {},
   "outputs": [
    {
     "name": "stdout",
     "output_type": "stream",
     "text": [
      "Enter the current year in 4 digits: 2020\n",
      "Enter the current month in 2 digits: 02\n",
      "Enter the current day in 2 digits: 17\n"
     ]
    }
   ],
   "source": [
    "# Input the date of the desired valuations\n",
    "while True:\n",
    "    year = input(\"Enter the current year in 4 digits: \")\n",
    "    if len(year)==4:\n",
    "        year=int(year)\n",
    "        break\n",
    "    else:\n",
    "        print(\"Invalid Year. Please Enter the Year as 4-digits.\")\n",
    "        \n",
    "while True:\n",
    "    month = input(\"Enter the current month in 2 digits: \")\n",
    "    if len(month)==2:\n",
    "        month=int(month)\n",
    "        break\n",
    "    else:\n",
    "        print(\"Invalid Year. Please Enter a Zero before a 1-digit month.\")\n",
    "        \n",
    "while True:\n",
    "    day = input(\"Enter the current day in 2 digits: \")\n",
    "    if len(day)==2:\n",
    "        day=int(day)\n",
    "        break\n",
    "    else:\n",
    "        print(\"Invalid Date. Please Enter a Zero before a 1-digit day.\")\n"
   ]
  },
  {
   "cell_type": "code",
   "execution_count": 4,
   "metadata": {},
   "outputs": [
    {
     "ename": "FileNotFoundError",
     "evalue": "[Errno 2] No such file or directory: '../misc/api_keys/attom_a.txt'",
     "output_type": "error",
     "traceback": [
      "\u001b[0;31m---------------------------------------------------------------------------\u001b[0m",
      "\u001b[0;31mFileNotFoundError\u001b[0m                         Traceback (most recent call last)",
      "\u001b[0;32m<ipython-input-4-d4a7e65c7651>\u001b[0m in \u001b[0;36m<module>\u001b[0;34m\u001b[0m\n\u001b[1;32m      1\u001b[0m \u001b[0;31m# Pull data on property values from the previous year from the given date, from the ATTOM Data API\u001b[0m\u001b[0;34m\u001b[0m\u001b[0;34m\u001b[0m\u001b[0;34m\u001b[0m\u001b[0m\n\u001b[0;32m----> 2\u001b[0;31m \u001b[0;32mwith\u001b[0m \u001b[0mopen\u001b[0m\u001b[0;34m(\u001b[0m\u001b[0;34m'../misc/api_keys/attom_a.txt'\u001b[0m\u001b[0;34m)\u001b[0m \u001b[0;32mas\u001b[0m \u001b[0mf\u001b[0m\u001b[0;34m:\u001b[0m\u001b[0;34m\u001b[0m\u001b[0;34m\u001b[0m\u001b[0m\n\u001b[0m\u001b[1;32m      3\u001b[0m     \u001b[0mkey\u001b[0m \u001b[0;34m=\u001b[0m \u001b[0mf\u001b[0m\u001b[0;34m.\u001b[0m\u001b[0mread\u001b[0m\u001b[0;34m(\u001b[0m\u001b[0;34m)\u001b[0m\u001b[0;34m.\u001b[0m\u001b[0mstrip\u001b[0m\u001b[0;34m(\u001b[0m\u001b[0;34m)\u001b[0m\u001b[0;34m\u001b[0m\u001b[0;34m\u001b[0m\u001b[0m\n\u001b[1;32m      4\u001b[0m \u001b[0;34m\u001b[0m\u001b[0m\n\u001b[1;32m      5\u001b[0m \u001b[0mconn\u001b[0m \u001b[0;34m=\u001b[0m \u001b[0mhttp\u001b[0m\u001b[0;34m.\u001b[0m\u001b[0mclient\u001b[0m\u001b[0;34m.\u001b[0m\u001b[0mHTTPSConnection\u001b[0m\u001b[0;34m(\u001b[0m\u001b[0;34m\"api.gateway.attomdata.com\"\u001b[0m\u001b[0;34m)\u001b[0m\u001b[0;34m\u001b[0m\u001b[0;34m\u001b[0m\u001b[0m\n",
      "\u001b[0;31mFileNotFoundError\u001b[0m: [Errno 2] No such file or directory: '../misc/api_keys/attom_a.txt'"
     ]
    }
   ],
   "source": [
    "# Pull data on property values from the previous year from the given date, from the ATTOM Data API\n",
    "with open('../../misc/api_keys/attom_a.txt') as f:\n",
    "    key = f.read().strip()\n",
    "\n",
    "conn = http.client.HTTPSConnection(\"api.gateway.attomdata.com\") \n",
    "headers = { \n",
    "    'accept': \"application/json\", \n",
    "    'apikey': key\n",
    "    } \n",
    "conn.request(\"GET\",f\"/propertyapi/v1.0.0/assessment/detail?geoid=ZI{zipinput}&startcalendardate={year-1}-{month}-{day}&endcalendardate={year}-{month}-{day}&page=1&pagesize=10000\", headers=headers)\n",
    "\n",
    "res = conn.getresponse() \n",
    "data = res.read() \n",
    "\n",
    "dict1 = json.loads(data.decode(\"utf-8\"))"
   ]
  },
  {
   "cell_type": "code",
   "execution_count": null,
   "metadata": {},
   "outputs": [],
   "source": [
    "dict1['property'][0].keys()  #all the keys for the first property in the list"
   ]
  },
  {
   "cell_type": "code",
   "execution_count": null,
   "metadata": {},
   "outputs": [],
   "source": [
    "pd.DataFrame(dict1['property'][0]) # the values for the first property in the list"
   ]
  },
  {
   "cell_type": "code",
   "execution_count": null,
   "metadata": {},
   "outputs": [],
   "source": [
    "dict1['property'][0]['assessment']['assessed']"
   ]
  },
  {
   "cell_type": "code",
   "execution_count": null,
   "metadata": {},
   "outputs": [],
   "source": [
    "dict1['property'][0]['assessment']['appraised']"
   ]
  },
  {
   "cell_type": "code",
   "execution_count": null,
   "metadata": {},
   "outputs": [],
   "source": [
    "dict1['property'][0]['assessment']['calculations']"
   ]
  },
  {
   "cell_type": "code",
   "execution_count": null,
   "metadata": {},
   "outputs": [],
   "source": [
    "dict1['property'][0]['assessment']['market']"
   ]
  },
  {
   "cell_type": "code",
   "execution_count": null,
   "metadata": {},
   "outputs": [],
   "source": [
    "df_property = pd.DataFrame({\n",
    "    'zip_input': [zipinput for num in range((len(dict1['property'])))],\n",
    "    'zipcode': [dict1['property'][num]['address']['postal1'] for num in range((len(dict1['property'])))],\n",
    "    'state': [dict1['property'][num]['address']['countrySubd'] for num in range((len(dict1['property'])))],\n",
    "    'address': [dict1['property'][num]['address']['line1'] for num in range((len(dict1['property'])))],\n",
    "    'property_type': [dict1['property'][num]['summary']['proptype'] for num in range((len(dict1['property'])))],\n",
    "    'property_code': [dict1['property'][num]['summary']['propIndicator'] for num in range((len(dict1['property'])))],\n",
    "    'city': [dict1['property'][num]['address']['locality'] for num in range((len(dict1['property'])))],\n",
    "    'latitude': [dict1['property'][num]['location']['latitude'] for num in range((len(dict1['property'])))],\n",
    "    'longitude': [dict1['property'][num]['location']['longitude'] for num in range((len(dict1['property'])))],\n",
    "    'sqft': [dict1['property'][num]['lot']['lotsize1'] for num in range((len(dict1['property'])))],\n",
    "    'appraised_improved_value': [dict1['property'][num]['assessment']['appraised']['apprimprvalue'] for num in range((len(dict1['property'])))],\n",
    "    'appraised_land_value': [dict1['property'][num]['assessment']['appraised']['apprlandvalue'] for num in range((len(dict1['property'])))],\n",
    "    'appraised_total_value': [dict1['property'][num]['assessment']['appraised']['apprttlvalue'] for num in range((len(dict1['property'])))],\n",
    "    'assessed_improved_value': [dict1['property'][num]['assessment']['assessed']['assdimprvalue'] for num in range((len(dict1['property'])))],\n",
    "    'assessed_land_value': [dict1['property'][num]['assessment']['assessed']['assdlandvalue'] for num in range((len(dict1['property'])))],\n",
    "    'assessed_total_value': [dict1['property'][num]['assessment']['assessed']['assdttlvalue'] for num in range((len(dict1['property'])))],\n",
    "    'calculated_improved_value': [dict1['property'][num]['assessment']['calculations']['calcimprvalue'] for num in range((len(dict1['property'])))],\n",
    "    'calculated_land_value': [dict1['property'][num]['assessment']['calculations']['calclandvalue'] for num in range((len(dict1['property'])))],\n",
    "    'calculated_total_value': [dict1['property'][num]['assessment']['calculations']['calcttlvalue'] for num in range((len(dict1['property'])))],\n",
    "    'market_value': [dict1['property'][num]['assessment']['market']['mktttlvalue'] for num in range((len(dict1['property'])))],\n",
    "})\n",
    "\n",
    "print(df_property.shape)\n",
    "print(f'There are {df_property.shape[0]} properties found in the {zipinput} zipcode for the year preceding {month}/{day}/{year}.')\n",
    "df_property.head()"
   ]
  },
  {
   "cell_type": "code",
   "execution_count": null,
   "metadata": {},
   "outputs": [],
   "source": [
    "# Data Dictionary for property types\n",
    "# \"\"\"Property Type - Codes\n",
    "# 10 Single Family Residence / Townhouse/\n",
    "# 11 Condominium (residential)/\n",
    "# 20 Commercial\n",
    "# 21 Duplex, Triplex, Quadplex/\n",
    "# 22 Apartment/\n",
    "# 23 Hotel, Motel/\n",
    "# 24 Commercial (condominium)\n",
    "# 25 Retail/\n",
    "# 27 Office Building/\n",
    "# 28 Warehouse/\n",
    "# 29 Financial Institution/\n",
    "# 30 Hospital (medical complex, clinic)\n",
    "# 50 Industrial/\n",
    "# 51 Industrial Light/\n",
    "# 52 Industrial Heavy/\n",
    "# 54 Utilities\n",
    "# 70 Agricultural/\n",
    "# 80 Vacant/\n",
    "# 90 Exempt\"\"\"\n"
   ]
  },
  {
   "cell_type": "code",
   "execution_count": null,
   "metadata": {},
   "outputs": [],
   "source": [
    "value_cols = list(df_property.columns[df_property.columns.str.contains('value')])\n",
    "value_cols"
   ]
  },
  {
   "cell_type": "code",
   "execution_count": null,
   "metadata": {},
   "outputs": [],
   "source": [
    "final = {}\n",
    "final['zipcode'] = 78701\n",
    "final['count_property'] = df_property['address'].count()\n",
    "\n",
    "for col in value_cols:\n",
    "    final[f'sum_{col}'] = 0\n",
    "    for value in df_property[col]:\n",
    "#         print(value)\n",
    "        final[f'sum_{col}'] += value\n",
    "    final[f'avg_{col}'] = round(final[f'sum_{col}']/len(df_property[col]),2)\n",
    "pd.DataFrame([final])"
   ]
  },
  {
   "cell_type": "code",
   "execution_count": null,
   "metadata": {},
   "outputs": [],
   "source": [
    "def get_custom_describe(value_col, df_group=df_property.groupby(['property_type'])):\n",
    "    return pd.DataFrame({\n",
    "                        'count': df_group[value_col].count(),\n",
    "                        'mean': df_group[value_col].mean().map('${:,.2f}'.format),\n",
    "                        'std': df_group[value_col].std().map('${:,.2f}'.format),\n",
    "                        'median_val': df_group[value_col].median().map('${:,.2f}'.format),\n",
    "                        'min_val': df_group[value_col].min().map('${:,.2f}'.format),\n",
    "#                         '25_percentile': df_group[value_col].quantile(.25).map('${:,.2f}'.format),\n",
    "#                         '75_percentile': df_group[value_col].quantile(.75).map('${:,.2f}'.format),\n",
    "                        'max_val': df_group[value_col].max().map('${:,.2f}'.format),\n",
    "                        'max_total': df_group[value_col].sum().map('${:,.2f}'.format)\n",
    "\n",
    "    })"
   ]
  },
  {
   "cell_type": "code",
   "execution_count": null,
   "metadata": {},
   "outputs": [],
   "source": [
    "df = get_custom_describe(df_group=df_property, value_col=['calculated_land_value', 'calculated_improved_value', \n",
    "                                                      'calculated_total_value'])\n",
    "df = df.T.copy()\n",
    "df.drop(['count', 'std'], inplace=True)\n",
    "df.rename(columns={\n",
    "    'calculated_land_value': 'Land Value', \n",
    "    'calculated_improved_value': 'Improved Value On the Land', \n",
    "    'calculated_total_value': 'Total Property Value'\n",
    "}, inplace=True)\n",
    "df.rename({\n",
    "    'mean': 'Mean Property Value',\n",
    "    'min_val': 'Minimum Property Value',\n",
    "    'median_val': 'Median Property Value',\n",
    "    'max_val': 'Maximum Property Value',\n",
    "    'max_total': 'TOTAL PROPERTIES VALUE'  \n",
    "}, inplace=True)\n",
    "df"
   ]
  },
  {
   "cell_type": "code",
   "execution_count": null,
   "metadata": {},
   "outputs": [],
   "source": [
    "get_custom_describe(value_col='calculated_improved_value')"
   ]
  },
  {
   "cell_type": "code",
   "execution_count": null,
   "metadata": {},
   "outputs": [],
   "source": [
    "get_custom_describe(value_col='calculated_land_value')"
   ]
  },
  {
   "cell_type": "code",
   "execution_count": null,
   "metadata": {},
   "outputs": [],
   "source": [
    "get_custom_describe(value_col='calculated_total_value') # total value includes value of the land "
   ]
  },
  {
   "cell_type": "code",
   "execution_count": null,
   "metadata": {},
   "outputs": [],
   "source": [
    "for row in df_property.T:\n",
    "    if df_property['calculated_total_value'][row] != df_property['market_value'][row]:\n",
    "        print(row)\n",
    "#     else:\n",
    "#         print('It is the same value.')"
   ]
  },
  {
   "cell_type": "code",
   "execution_count": null,
   "metadata": {},
   "outputs": [],
   "source": [
    "ax = df_property.groupby(['property_type'])['calculated_land_value', \n",
    "                                            'calculated_improved_value'].sum().plot.barh(figsize=(10,10), \n",
    "                                                                                         stacked=True)\n",
    "ax.set_ylabel('Property Type', fontsize=15)\n",
    "ax.set_title('Total Land and Combined Property Values by Property Type', fontsize=15)\n",
    "ax.legend(('Total Land Value', 'Total Improved Value'))\n",
    ";\n",
    "plt.savefig(f'./images/stacked_property_val_chart_{zipinput}_{year}_{month}_{day}.png')"
   ]
  },
  {
   "cell_type": "code",
   "execution_count": null,
   "metadata": {},
   "outputs": [],
   "source": [
    "# Pull Sales time series data from the ATTOM API\n",
    "conn2 = http.client.HTTPSConnection(\"api.gateway.attomdata.com\") \n",
    "conn2.request(\"GET\",f\"/propertyapi/v1.0.0/salestrend/snapshot?geoid=ZI{zipinput}&interval=yearly&startyear=1979&endyear={year}\", headers=headers)\n",
    "res2 = conn2.getresponse() \n",
    "data2 = res2.read() \n",
    "\n",
    "dict2 = json.loads(data2.decode(\"utf-8\"))"
   ]
  },
  {
   "cell_type": "code",
   "execution_count": null,
   "metadata": {},
   "outputs": [],
   "source": [
    "price_series = defaultdict(list)          #creates dictionary that's empty made of lists\n",
    "\n",
    "\n",
    "#Build list of properties & key data\n",
    "for price in dict2['salestrends']:\n",
    "    price_series['location'].append(price['location']['geoID'])\n",
    "    price_series['year'].append(price['daterange']['start'])\n",
    "    price_series['SF_count'].append(price['SalesTrend']['homesalecount'])\n",
    "    price_series['AvgSalePrice'].append(price['SalesTrend']['avgsaleprice'])\n",
    "    price_series['MedianSalePrice'].append(price['SalesTrend']['medsaleprice'])\n",
    "df = pd.DataFrame(price_series)"
   ]
  },
  {
   "cell_type": "code",
   "execution_count": null,
   "metadata": {},
   "outputs": [],
   "source": [
    "\n",
    "plt.figure(figsize=(10,8))\n",
    "plt.title('Sales Trends for Single Family Homes in '+zipinput, fontsize=20)\n",
    "\n",
    "for y_col in ['AvgSalePrice', 'MedianSalePrice', 'SF_count']:  \n",
    "    plt.plot(df['year'], df[y_col])\n",
    "    \n",
    "plt.legend(labels=('Average Price', 'Median Price', 'Sales Count'), fontsize=20);\n",
    "plt.xticks(fontsize=15)\n",
    "plt.yticks(fontsize=15)\n",
    "plt.savefig(f'./images/sales_trends_graph_{zipinput}_{year}_{month}_{day}.png')\n",
    "plt.show();\n"
   ]
  },
  {
   "cell_type": "code",
   "execution_count": null,
   "metadata": {},
   "outputs": [],
   "source": []
  }
 ],
 "metadata": {
  "kernelspec": {
   "display_name": "Python 3",
   "language": "python",
   "name": "python3"
  },
  "language_info": {
   "codemirror_mode": {
    "name": "ipython",
    "version": 3
   },
   "file_extension": ".py",
   "mimetype": "text/x-python",
   "name": "python",
   "nbconvert_exporter": "python",
   "pygments_lexer": "ipython3",
   "version": "3.7.6"
  }
 },
 "nbformat": 4,
 "nbformat_minor": 2
}
